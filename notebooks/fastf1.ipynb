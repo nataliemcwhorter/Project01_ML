{
 "cells": [
  {
   "metadata": {
    "ExecuteTime": {
     "end_time": "2025-09-02T22:32:45.223651Z",
     "start_time": "2025-09-02T22:32:42.956634Z"
    }
   },
   "cell_type": "code",
   "source": [
    "import fastf1\n",
    "import os\n",
    "import pandas as pd\n",
    "import matplotlib.pyplot as plt\n",
    "\n",
    "# Third cell - set up caching so data loads faster\n",
    "os.makedirs('cache', exist_ok=True)\n",
    "fastf1.Cache.enable_cache('cache')\n",
    "\n",
    "# Fourth cell - load a recent race session\n",
    "session = fastf1.get_session(2015, 'French', 'Q')  # 2024 Monaco Qualifying\n",
    "session.load()\n",
    "\n",
    "# Fifth cell - see what data you can access\n",
    "print(\"Available data:\")\n",
    "print(\"- session.results\")\n",
    "print(\"- session.laps\")\n",
    "print(\"- session.car_data\")\n",
    "print(\"- session.pos_data\")\n",
    "print(\"- session.weather\")\n",
    "\n",
    "# Sixth cell - qualifying results\n",
    "results = session.results\n",
    "print(results[['DriverNumber', 'Abbreviation', 'Q1', 'Q2', 'Q3']])"
   ],
   "id": "42b4eb5d568a36b2",
   "outputs": [
    {
     "name": "stderr",
     "output_type": "stream",
     "text": [
      "events      WARNING \tCorrecting user input 'French' to 'Chinese Grand Prix'\n",
      "core           INFO \tLoading data for Chinese Grand Prix - Qualifying [v3.6.0]\n",
      "req            INFO \tNo cached data found for session_info. Loading data...\n",
      "_api           INFO \tFetching session info data...\n",
      "logger      WARNING \tFailed to load session info data!\n",
      "core        WARNING \tCannot load laps, telemetry, weather, and message data because the relevant API is not supported for this session.\n",
      "core           INFO \tFinished loading data for 20 drivers: ['44', '6', '5', '19', '77', '7', '3', '8', '12', '9', '13', '26', '33', '55', '11', '27', '22', '14', '28', '98']\n"
     ]
    },
    {
     "name": "stdout",
     "output_type": "stream",
     "text": [
      "Available data:\n",
      "- session.results\n",
      "- session.laps\n",
      "- session.car_data\n",
      "- session.pos_data\n",
      "- session.weather\n",
      "             DriverNumber Abbreviation                     Q1  \\\n",
      "DriverNumber                                                    \n",
      "44                     44          HAM 0 days 00:01:38.285000   \n",
      "6                       6          ROS 0 days 00:01:38.496000   \n",
      "5                       5          VET 0 days 00:01:37.502000   \n",
      "19                     19          MAS 0 days 00:01:38.433000   \n",
      "77                     77          BOT 0 days 00:01:38.014000   \n",
      "7                       7          RAI 0 days 00:01:37.790000   \n",
      "3                       3          RIC 0 days 00:01:38.534000   \n",
      "8                       8          GRO 0 days 00:01:38.209000   \n",
      "12                     12          NAS 0 days 00:01:38.521000   \n",
      "9                       9          ERI 0 days 00:01:38.941000   \n",
      "13                     13          MAL 0 days 00:01:38.563000   \n",
      "26                     26          KVY 0 days 00:01:39.051000   \n",
      "33                     33          VER 0 days 00:01:38.387000   \n",
      "55                     55          SAI 0 days 00:01:38.622000   \n",
      "11                     11          PER 0 days 00:01:38.903000   \n",
      "27                     27          HUL 0 days 00:01:39.216000   \n",
      "22                     22          BUT 0 days 00:01:39.276000   \n",
      "14                     14          ALO 0 days 00:01:39.280000   \n",
      "28                     28          STE 0 days 00:01:42.091000   \n",
      "98                     98          MER 0 days 00:01:42.842000   \n",
      "\n",
      "                                 Q2                     Q3  \n",
      "DriverNumber                                                \n",
      "44           0 days 00:01:36.423000 0 days 00:01:35.782000  \n",
      "6            0 days 00:01:36.747000 0 days 00:01:35.828000  \n",
      "5            0 days 00:01:36.957000 0 days 00:01:36.687000  \n",
      "19           0 days 00:01:37.357000 0 days 00:01:36.954000  \n",
      "77           0 days 00:01:37.763000 0 days 00:01:37.143000  \n",
      "7            0 days 00:01:37.109000 0 days 00:01:37.232000  \n",
      "3            0 days 00:01:37.939000 0 days 00:01:37.540000  \n",
      "8            0 days 00:01:38.063000 0 days 00:01:37.905000  \n",
      "12           0 days 00:01:38.017000 0 days 00:01:38.067000  \n",
      "9            0 days 00:01:38.127000 0 days 00:01:38.158000  \n",
      "13           0 days 00:01:38.134000                    NaT  \n",
      "26           0 days 00:01:38.209000                    NaT  \n",
      "33           0 days 00:01:38.393000                    NaT  \n",
      "55           0 days 00:01:38.538000                    NaT  \n",
      "11           0 days 00:01:39.290000                    NaT  \n",
      "27                              NaT                    NaT  \n",
      "22                              NaT                    NaT  \n",
      "14                              NaT                    NaT  \n",
      "28                              NaT                    NaT  \n",
      "98                              NaT                    NaT  \n"
     ]
    }
   ],
   "execution_count": 14
  },
  {
   "metadata": {
    "ExecuteTime": {
     "end_time": "2025-09-02T22:32:49.299126Z",
     "start_time": "2025-09-02T22:32:49.267336Z"
    }
   },
   "cell_type": "code",
   "source": [
    "# Look at weather during qualifying\n",
    "print(dir(session))\n",
    "weather = session.weather_data\n",
    "print(weather.head())\n",
    "print(weather.columns)"
   ],
   "id": "421e0c38b8ecebf1",
   "outputs": [
    {
     "name": "stdout",
     "output_type": "stream",
     "text": [
      "['_QUALI_LIKE_SESSIONS', '_RACE_LIKE_SESSIONS', '_Session__fix_tyre_info', '__class__', '__delattr__', '__dict__', '__dir__', '__doc__', '__eq__', '__format__', '__ge__', '__getattribute__', '__gt__', '__hash__', '__init__', '__init_subclass__', '__le__', '__lt__', '__module__', '__ne__', '__new__', '__reduce__', '__reduce_ex__', '__repr__', '__setattr__', '__sizeof__', '__str__', '__subclasshook__', '__weakref__', '_add_first_lap_time_from_ergast', '_add_track_status_to_laps', '_calculate_quali_like_session_results', '_calculate_race_like_session_results', '_calculate_t0_date', '_check_lap_accuracy', '_drivers_from_f1_api', '_drivers_results_from_ergast', '_ergast', '_fix_missing_laps_retired_on_track', '_get_property_warn_not_loaded', '_load_drivers_results', '_load_laps_data', '_load_race_control_messages', '_load_session_info', '_load_session_status_data', '_load_telemetry', '_load_total_lap_count', '_load_track_status_data', '_load_weather_data', '_results', '_session_split_times', '_set_laps_deleted_from_rcm', 'api_path', 'car_data', 'date', 'drivers', 'event', 'f1_api_support', 'get_circuit_info', 'get_driver', 'laps', 'load', 'name', 'pos_data', 'race_control_messages', 'results', 'session_info', 'session_start_time', 'session_status', 't0_date', 'total_laps', 'track_status', 'weather_data']\n"
     ]
    },
    {
     "ename": "DataNotLoadedError",
     "evalue": "The data you are trying to access has not been loaded yet. See `Session.load`",
     "output_type": "error",
     "traceback": [
      "\u001B[0;31m---------------------------------------------------------------------------\u001B[0m",
      "\u001B[0;31mDataNotLoadedError\u001B[0m                        Traceback (most recent call last)",
      "Cell \u001B[0;32mIn[15], line 3\u001B[0m\n\u001B[1;32m      1\u001B[0m \u001B[38;5;66;03m# Look at weather during qualifying\u001B[39;00m\n\u001B[1;32m      2\u001B[0m \u001B[38;5;28mprint\u001B[39m(\u001B[38;5;28mdir\u001B[39m(session))\n\u001B[0;32m----> 3\u001B[0m weather \u001B[38;5;241m=\u001B[39m \u001B[43msession\u001B[49m\u001B[38;5;241;43m.\u001B[39;49m\u001B[43mweather_data\u001B[49m\n\u001B[1;32m      4\u001B[0m \u001B[38;5;28mprint\u001B[39m(weather\u001B[38;5;241m.\u001B[39mhead())\n\u001B[1;32m      5\u001B[0m \u001B[38;5;28mprint\u001B[39m(weather\u001B[38;5;241m.\u001B[39mcolumns)\n",
      "File \u001B[0;32m~/Documents/GameDesign/Lab02.01 asteroids 2.0/venv/lib/python3.10/site-packages/fastf1/core.py:1311\u001B[0m, in \u001B[0;36mSession.weather_data\u001B[0;34m(self)\u001B[0m\n\u001B[1;32m   1303\u001B[0m \u001B[38;5;129m@property\u001B[39m\n\u001B[1;32m   1304\u001B[0m \u001B[38;5;28;01mdef\u001B[39;00m\u001B[38;5;250m \u001B[39m\u001B[38;5;21mweather_data\u001B[39m(\u001B[38;5;28mself\u001B[39m):\n\u001B[1;32m   1305\u001B[0m \u001B[38;5;250m    \u001B[39m\u001B[38;5;124;03m\"\"\"Dataframe containing weather data for this session as received\u001B[39;00m\n\u001B[1;32m   1306\u001B[0m \u001B[38;5;124;03m    from the api. See :func:`fastf1.api.weather_data` for available data\u001B[39;00m\n\u001B[1;32m   1307\u001B[0m \u001B[38;5;124;03m    channels. Each data channel is one row of the dataframe.\u001B[39;00m\n\u001B[1;32m   1308\u001B[0m \n\u001B[1;32m   1309\u001B[0m \u001B[38;5;124;03m    Data is available after calling `Session.load` with ``weather=True``\u001B[39;00m\n\u001B[1;32m   1310\u001B[0m \u001B[38;5;124;03m    \"\"\"\u001B[39;00m\n\u001B[0;32m-> 1311\u001B[0m     \u001B[38;5;28;01mreturn\u001B[39;00m \u001B[38;5;28;43mself\u001B[39;49m\u001B[38;5;241;43m.\u001B[39;49m\u001B[43m_get_property_warn_not_loaded\u001B[49m\u001B[43m(\u001B[49m\u001B[38;5;124;43m'\u001B[39;49m\u001B[38;5;124;43m_weather_data\u001B[39;49m\u001B[38;5;124;43m'\u001B[39;49m\u001B[43m)\u001B[49m\n",
      "File \u001B[0;32m~/Documents/GameDesign/Lab02.01 asteroids 2.0/venv/lib/python3.10/site-packages/fastf1/core.py:1250\u001B[0m, in \u001B[0;36mSession._get_property_warn_not_loaded\u001B[0;34m(self, name)\u001B[0m\n\u001B[1;32m   1248\u001B[0m \u001B[38;5;28;01mdef\u001B[39;00m\u001B[38;5;250m \u001B[39m\u001B[38;5;21m_get_property_warn_not_loaded\u001B[39m(\u001B[38;5;28mself\u001B[39m, name):\n\u001B[1;32m   1249\u001B[0m     \u001B[38;5;28;01mif\u001B[39;00m \u001B[38;5;129;01mnot\u001B[39;00m \u001B[38;5;28mhasattr\u001B[39m(\u001B[38;5;28mself\u001B[39m, name):\n\u001B[0;32m-> 1250\u001B[0m         \u001B[38;5;28;01mraise\u001B[39;00m DataNotLoadedError(\n\u001B[1;32m   1251\u001B[0m             \u001B[38;5;124m\"\u001B[39m\u001B[38;5;124mThe data you are trying to access has not been loaded yet. \u001B[39m\u001B[38;5;124m\"\u001B[39m\n\u001B[1;32m   1252\u001B[0m             \u001B[38;5;124m\"\u001B[39m\u001B[38;5;124mSee `Session.load`\u001B[39m\u001B[38;5;124m\"\u001B[39m\n\u001B[1;32m   1253\u001B[0m         )\n\u001B[1;32m   1254\u001B[0m     \u001B[38;5;28;01mreturn\u001B[39;00m \u001B[38;5;28mgetattr\u001B[39m(\u001B[38;5;28mself\u001B[39m, name, \u001B[38;5;28;01mNone\u001B[39;00m)\n",
      "\u001B[0;31mDataNotLoadedError\u001B[0m: The data you are trying to access has not been loaded yet. See `Session.load`"
     ]
    }
   ],
   "execution_count": 15
  }
 ],
 "metadata": {
  "kernelspec": {
   "display_name": "Python 3",
   "language": "python",
   "name": "python3"
  },
  "language_info": {
   "codemirror_mode": {
    "name": "ipython",
    "version": 2
   },
   "file_extension": ".py",
   "mimetype": "text/x-python",
   "name": "python",
   "nbconvert_exporter": "python",
   "pygments_lexer": "ipython2",
   "version": "2.7.6"
  }
 },
 "nbformat": 4,
 "nbformat_minor": 5
}
