{
 "cells": [
  {
   "cell_type": "code",
   "id": "initial_id",
   "metadata": {
    "collapsed": true,
    "ExecuteTime": {
     "end_time": "2025-08-29T01:38:29.512995Z",
     "start_time": "2025-08-29T01:38:21.699880Z"
    }
   },
   "source": [
    "import pandas as pd\n",
    "import numpy as np\n",
    "import matplotlib.pyplot as plt\n",
    "import seaborn as sns\n",
    "from datetime import datetime\n",
    "\n",
    "# Set up plotting\n",
    "plt.style.use('default')\n",
    "sns.set_palette(\"husl\")\n",
    "\n",
    "# Load the key datasets\n",
    "print(\"Loading F1 datasets...\")\n",
    "\n",
    "# Core tables for qualifying prediction\n",
    "qualifying = pd.read_csv('../data/qualifying.csv')\n",
    "races = pd.read_csv('../data/races.csv')\n",
    "drivers = pd.read_csv('../data/drivers.csv')\n",
    "constructors = pd.read_csv('../data/constructors.csv')\n",
    "results = pd.read_csv('../data/results.csv')\n",
    "\n",
    "print(\"Datasets loaded successfully!\")\n",
    "print(f\"Qualifying data: {qualifying.shape}\")\n",
    "print(f\"Races data: {races.shape}\")\n",
    "print(f\"Drivers data: {drivers.shape}\")\n",
    "print(f\"Constructors data: {constructors.shape}\")\n",
    "print(f\"Results data: {results.shape}\")"
   ],
   "outputs": [
    {
     "name": "stderr",
     "output_type": "stream",
     "text": [
      "Matplotlib is building the font cache; this may take a moment.\n"
     ]
    },
    {
     "name": "stdout",
     "output_type": "stream",
     "text": [
      "Loading F1 datasets...\n",
      "Datasets loaded successfully!\n",
      "Qualifying data: (10774, 9)\n",
      "Races data: (1149, 18)\n",
      "Drivers data: (864, 9)\n",
      "Constructors data: (212, 5)\n",
      "Results data: (27038, 18)\n"
     ]
    }
   ],
   "execution_count": 2
  },
  {
   "metadata": {
    "ExecuteTime": {
     "end_time": "2025-08-29T01:39:52.199419Z",
     "start_time": "2025-08-29T01:39:52.182076Z"
    }
   },
   "cell_type": "code",
   "source": [
    "# Let's examine the qualifying data structure\n",
    "print(\"=== QUALIFYING DATA EXPLORATION ===\")\n",
    "print(\"\\nColumn names:\")\n",
    "print(qualifying.columns.tolist())\n",
    "\n",
    "print(\"\\nFirst few rows:\")\n",
    "print(qualifying.head())\n",
    "\n",
    "print(\"\\nData types:\")\n",
    "print(qualifying.dtypes)\n",
    "\n",
    "print(\"\\nBasic info:\")\n",
    "print(qualifying.info())\n",
    "\n",
    "print(\"\\nMissing values:\")\n",
    "print(qualifying.isnull().sum())"
   ],
   "id": "ef92e7d319333ece",
   "outputs": [
    {
     "name": "stdout",
     "output_type": "stream",
     "text": [
      "=== QUALIFYING DATA EXPLORATION ===\n",
      "\n",
      "Column names:\n",
      "['qualifyId', 'raceId', 'driverId', 'constructorId', 'number', 'position', 'q1', 'q2', 'q3']\n",
      "\n",
      "First few rows:\n",
      "   qualifyId  raceId  driverId  constructorId  number  position        q1  \\\n",
      "0          1      18         1              1      22         1  1:26.572   \n",
      "1          2      18         9              2       4         2  1:26.103   \n",
      "2          3      18         5              1      23         3  1:25.664   \n",
      "3          4      18        13              6       2         4  1:25.994   \n",
      "4          5      18         2              2       3         5  1:25.960   \n",
      "\n",
      "         q2        q3  \n",
      "0  1:25.187  1:26.714  \n",
      "1  1:25.315  1:26.869  \n",
      "2  1:25.452  1:27.079  \n",
      "3  1:25.691  1:27.178  \n",
      "4  1:25.518  1:27.236  \n",
      "\n",
      "Data types:\n",
      "qualifyId         int64\n",
      "raceId            int64\n",
      "driverId          int64\n",
      "constructorId     int64\n",
      "number            int64\n",
      "position          int64\n",
      "q1               object\n",
      "q2               object\n",
      "q3               object\n",
      "dtype: object\n",
      "\n",
      "Basic info:\n",
      "<class 'pandas.core.frame.DataFrame'>\n",
      "RangeIndex: 10774 entries, 0 to 10773\n",
      "Data columns (total 9 columns):\n",
      " #   Column         Non-Null Count  Dtype \n",
      "---  ------         --------------  ----- \n",
      " 0   qualifyId      10774 non-null  int64 \n",
      " 1   raceId         10774 non-null  int64 \n",
      " 2   driverId       10774 non-null  int64 \n",
      " 3   constructorId  10774 non-null  int64 \n",
      " 4   number         10774 non-null  int64 \n",
      " 5   position       10774 non-null  int64 \n",
      " 6   q1             10774 non-null  object\n",
      " 7   q2             10774 non-null  object\n",
      " 8   q3             10774 non-null  object\n",
      "dtypes: int64(6), object(3)\n",
      "memory usage: 757.7+ KB\n",
      "None\n",
      "\n",
      "Missing values:\n",
      "qualifyId        0\n",
      "raceId           0\n",
      "driverId         0\n",
      "constructorId    0\n",
      "number           0\n",
      "position         0\n",
      "q1               0\n",
      "q2               0\n",
      "q3               0\n",
      "dtype: int64\n"
     ]
    }
   ],
   "execution_count": 3
  },
  {
   "metadata": {
    "ExecuteTime": {
     "end_time": "2025-08-29T01:44:36.325627Z",
     "start_time": "2025-08-29T01:44:36.311008Z"
    }
   },
   "cell_type": "code",
   "source": [
    "# Let's understand the qualifying time structure\n",
    "print(\"=== QUALIFYING TIMES ANALYSIS ===\")\n",
    "\n",
    "# Check what the time data looks like\n",
    "print(\"\\nSample Q1, Q2, Q3 times:\")\n",
    "print(qualifying[['q1', 'q2', 'q3']].head(10))\n",
    "\n",
    "# Check for missing times (some drivers don't make it to Q2/Q3)\n",
    "print(\"\\nMissing times by session:\")\n",
    "print(f\"Q1 missing: {qualifying['q1'].isnull().sum()}\")\n",
    "print(f\"Q2 missing: {qualifying['q2'].isnull().sum()}\")\n",
    "print(f\"Q3 missing: {qualifying['q3'].isnull().sum()}\")\n",
    "\n",
    "# Check the time format\n",
    "print(\"\\nTime format examples:\")\n",
    "print(qualifying[qualifying['q1'].notna()]['q1'].head())"
   ],
   "id": "c6113a5a19af7d7e",
   "outputs": [
    {
     "name": "stdout",
     "output_type": "stream",
     "text": [
      "=== QUALIFYING TIMES ANALYSIS ===\n",
      "\n",
      "Sample Q1, Q2, Q3 times:\n",
      "         q1        q2        q3\n",
      "0  1:26.572  1:25.187  1:26.714\n",
      "1  1:26.103  1:25.315  1:26.869\n",
      "2  1:25.664  1:25.452  1:27.079\n",
      "3  1:25.994  1:25.691  1:27.178\n",
      "4  1:25.960  1:25.518  1:27.236\n",
      "5  1:26.427  1:26.101  1:28.527\n",
      "6  1:26.295  1:26.059  1:28.687\n",
      "7  1:26.381  1:26.063  1:29.041\n",
      "8  1:26.919  1:26.164  1:29.593\n",
      "9  1:26.702  1:25.842        \\N\n",
      "\n",
      "Missing times by session:\n",
      "Q1 missing: 0\n",
      "Q2 missing: 0\n",
      "Q3 missing: 0\n",
      "\n",
      "Time format examples:\n",
      "0    1:26.572\n",
      "1    1:26.103\n",
      "2    1:25.664\n",
      "3    1:25.994\n",
      "4    1:25.960\n",
      "Name: q1, dtype: object\n"
     ]
    }
   ],
   "execution_count": 4
  },
  {
   "metadata": {
    "ExecuteTime": {
     "end_time": "2025-08-29T01:44:50.286707Z",
     "start_time": "2025-08-29T01:44:50.267053Z"
    }
   },
   "cell_type": "code",
   "source": [
    "# Let's connect qualifying to races to get track and date info\n",
    "print(\"=== CONNECTING QUALIFYING TO RACES ===\")\n",
    "\n",
    "# Merge qualifying with race info\n",
    "qualifying_with_races = qualifying.merge(races, on='raceId', how='left')\n",
    "\n",
    "print(\"\\nColumns after merging with races:\")\n",
    "print(qualifying_with_races.columns.tolist())\n",
    "\n",
    "print(\"\\nSample data with race info:\")\n",
    "print(qualifying_with_races[['driverId', 'position', 'q1', 'name', 'year', 'circuitId']].head())\n",
    "\n",
    "# Check date range\n",
    "print(f\"\\nDate range: {qualifying_with_races['year'].min()} to {qualifying_with_races['year'].max()}\")\n",
    "print(f\"Total qualifying sessions: {len(qualifying_with_races)}\")\n",
    "print(f\"Unique races: {qualifying_with_races['raceId'].nunique()}\")\n",
    "print(f\"Unique circuits: {qualifying_with_races['circuitId'].nunique()}\")"
   ],
   "id": "3f163cf2b29c5007",
   "outputs": [
    {
     "name": "stdout",
     "output_type": "stream",
     "text": [
      "=== CONNECTING QUALIFYING TO RACES ===\n",
      "\n",
      "Columns after merging with races:\n",
      "['qualifyId', 'raceId', 'driverId', 'constructorId', 'number', 'position', 'q1', 'q2', 'q3', 'year', 'round', 'circuitId', 'name', 'date', 'time', 'url', 'fp1_date', 'fp1_time', 'fp2_date', 'fp2_time', 'fp3_date', 'fp3_time', 'quali_date', 'quali_time', 'sprint_date', 'sprint_time']\n",
      "\n",
      "Sample data with race info:\n",
      "   driverId  position        q1                   name  year  circuitId\n",
      "0         1         1  1:26.572  Australian Grand Prix  2008          1\n",
      "1         9         2  1:26.103  Australian Grand Prix  2008          1\n",
      "2         5         3  1:25.664  Australian Grand Prix  2008          1\n",
      "3        13         4  1:25.994  Australian Grand Prix  2008          1\n",
      "4         2         5  1:25.960  Australian Grand Prix  2008          1\n",
      "\n",
      "Date range: 1994 to 2025\n",
      "Total qualifying sessions: 10774\n",
      "Unique races: 508\n",
      "Unique circuits: 43\n"
     ]
    }
   ],
   "execution_count": 5
  },
  {
   "metadata": {
    "ExecuteTime": {
     "end_time": "2025-08-29T01:48:13.391279Z",
     "start_time": "2025-08-29T01:48:13.360792Z"
    }
   },
   "cell_type": "code",
   "source": [
    "# Function to convert qualifying time strings to seconds\n",
    "def time_to_seconds(time_str):\n",
    "    \"\"\"Convert time string like '1:23.456' to seconds (83.456)\"\"\"\n",
    "    if pd.isna(time_str) or time_str == '\\\\N':\n",
    "        return None\n",
    "\n",
    "    try:\n",
    "        # Handle format like '1:23.456'\n",
    "        if ':' in str(time_str):\n",
    "            parts = str(time_str).split(':')\n",
    "            minutes = int(parts[0])\n",
    "            seconds = float(parts[1])\n",
    "            return minutes * 60 + seconds\n",
    "        else:\n",
    "            # Handle format like '83.456' (already in seconds)\n",
    "            return float(time_str)\n",
    "    except:\n",
    "        return None\n",
    "\n",
    "# Apply conversion to all qualifying times\n",
    "print(\"Converting qualifying times to seconds...\")\n",
    "\n",
    "qualifying_processed = qualifying.copy()\n",
    "qualifying_processed['q1_seconds'] = qualifying_processed['q1'].apply(time_to_seconds)\n",
    "qualifying_processed['q2_seconds'] = qualifying_processed['q2'].apply(time_to_seconds)\n",
    "qualifying_processed['q3_seconds'] = qualifying_processed['q3'].apply(time_to_seconds)\n",
    "\n",
    "print(\"\\nSample converted times:\")\n",
    "print(qualifying_processed[['q1', 'q1_seconds', 'q2', 'q2_seconds', 'q3', 'q3_seconds']].head())\n",
    "\n",
    "print(\"\\nMissing times after conversion:\")\n",
    "print(f\"Q1: {qualifying_processed['q1_seconds'].isnull().sum()}\")\n",
    "print(f\"Q2: {qualifying_processed['q2_seconds'].isnull().sum()}\")\n",
    "print(f\"Q3: {qualifying_processed['q3_seconds'].isnull().sum()}\")"
   ],
   "id": "74669824cac7d1fc",
   "outputs": [
    {
     "name": "stdout",
     "output_type": "stream",
     "text": [
      "Converting qualifying times to seconds...\n",
      "\n",
      "Sample converted times:\n",
      "         q1  q1_seconds        q2  q2_seconds        q3  q3_seconds\n",
      "0  1:26.572      86.572  1:25.187      85.187  1:26.714      86.714\n",
      "1  1:26.103      86.103  1:25.315      85.315  1:26.869      86.869\n",
      "2  1:25.664      85.664  1:25.452      85.452  1:27.079      87.079\n",
      "3  1:25.994      85.994  1:25.691      85.691  1:27.178      87.178\n",
      "4  1:25.960      85.960  1:25.518      85.518  1:27.236      87.236\n",
      "\n",
      "Missing times after conversion:\n",
      "Q1: 158\n",
      "Q2: 4722\n",
      "Q3: 7007\n"
     ]
    }
   ],
   "execution_count": 6
  },
  {
   "metadata": {
    "ExecuteTime": {
     "end_time": "2025-08-29T01:49:17.450226Z",
     "start_time": "2025-08-29T01:49:17.375056Z"
    }
   },
   "cell_type": "code",
   "source": [
    "# Create the target variable: best qualifying time\n",
    "# This will be what we predict for each driver\n",
    "\n",
    "def get_best_qualifying_time(row):\n",
    "    \"\"\"Get the best (fastest) qualifying time from Q1, Q2, Q3\"\"\"\n",
    "    times = [row['q1_seconds'], row['q2_seconds'], row['q3_seconds']]\n",
    "    valid_times = [t for t in times if pd.notna(t)]\n",
    "\n",
    "    if valid_times:\n",
    "        return min(valid_times)  # Fastest time\n",
    "    else:\n",
    "        return None\n",
    "\n",
    "# Create target variable\n",
    "qualifying_processed['best_time'] = qualifying_processed.apply(get_best_qualifying_time, axis=1)\n",
    "\n",
    "print(\"=== TARGET VARIABLE CREATED ===\")\n",
    "print(\"\\nSample data with best times:\")\n",
    "print(qualifying_processed[['position', 'q1_seconds', 'q2_seconds', 'q3_seconds', 'best_time']].head(10))\n",
    "\n",
    "print(f\"\\nTotal records with valid best times: {qualifying_processed['best_time'].notna().sum()}\")\n",
    "print(f\"Records missing best times: {qualifying_processed['best_time'].isna().sum()}\")\n",
    "\n",
    "# Verify that best times correlate with positions\n",
    "print(\"\\nCorrelation between best_time and position (should be positive):\")\n",
    "corr = qualifying_processed[['best_time', 'position']].corr()\n",
    "print(f\"Correlation: {corr.loc['best_time', 'position']:.3f}\")"
   ],
   "id": "f54db6015a44efc1",
   "outputs": [
    {
     "name": "stdout",
     "output_type": "stream",
     "text": [
      "=== TARGET VARIABLE CREATED ===\n",
      "\n",
      "Sample data with best times:\n",
      "   position  q1_seconds  q2_seconds  q3_seconds  best_time\n",
      "0         1      86.572      85.187      86.714     85.187\n",
      "1         2      86.103      85.315      86.869     85.315\n",
      "2         3      85.664      85.452      87.079     85.452\n",
      "3         4      85.994      85.691      87.178     85.691\n",
      "4         5      85.960      85.518      87.236     85.518\n",
      "5         6      86.427      86.101      88.527     86.101\n",
      "6         7      86.295      86.059      88.687     86.059\n",
      "7         8      86.381      86.063      89.041     86.063\n",
      "8         9      86.919      86.164      89.593     86.164\n",
      "9        10      86.702      85.842         NaN     85.842\n",
      "\n",
      "Total records with valid best times: 10616\n",
      "Records missing best times: 158\n",
      "\n",
      "Correlation between best_time and position (should be positive):\n",
      "Correlation: 0.127\n"
     ]
    }
   ],
   "execution_count": 7
  },
  {
   "metadata": {
    "ExecuteTime": {
     "end_time": "2025-08-29T01:51:15.826032Z",
     "start_time": "2025-08-29T01:51:15.787460Z"
    }
   },
   "cell_type": "code",
   "source": [
    "# Let's merge all our data together and start feature engineering\n",
    "print(\"=== BUILDING FEATURE DATASET ===\")\n",
    "\n",
    "# Merge qualifying with races and drivers\n",
    "feature_data = qualifying_processed.merge(races, on='raceId', how='left')\n",
    "feature_data = feature_data.merge(drivers, on='driverId', how='left')\n",
    "feature_data = feature_data.merge(constructors, on='constructorId', how='left')\n",
    "\n",
    "# Only keep records with valid best times (our target)\n",
    "feature_data = feature_data[feature_data['best_time'].notna()].copy()\n",
    "\n",
    "print(f\"Total records for modeling: {len(feature_data)}\")\n",
    "print(f\"Date range: {feature_data['year'].min()} to {feature_data['year'].max()}\")\n",
    "print(f\"Unique drivers: {feature_data['driverId'].nunique()}\")\n",
    "print(f\"Unique circuits: {feature_data['circuitId'].nunique()}\")\n",
    "\n",
    "# Check what we have to work with\n",
    "print(\"\\nKey columns for features:\")\n",
    "key_cols = ['year', 'circuitId', 'driverId', 'constructorId', 'best_time', 'position']\n",
    "print(feature_data[key_cols].head())"
   ],
   "id": "6caf84e2aa42ceda",
   "outputs": [
    {
     "name": "stdout",
     "output_type": "stream",
     "text": [
      "=== BUILDING FEATURE DATASET ===\n",
      "Total records for modeling: 10616\n",
      "Date range: 1994 to 2025\n",
      "Unique drivers: 175\n",
      "Unique circuits: 43\n",
      "\n",
      "Key columns for features:\n",
      "   year  circuitId  driverId  constructorId  best_time  position\n",
      "0  2008          1         1              1     85.187         1\n",
      "1  2008          1         9              2     85.315         2\n",
      "2  2008          1         5              1     85.452         3\n",
      "3  2008          1        13              6     85.691         4\n",
      "4  2008          1         2              2     85.518         5\n"
     ]
    }
   ],
   "execution_count": 8
  },
  {
   "metadata": {
    "ExecuteTime": {
     "end_time": "2025-08-29T01:51:59.785498Z",
     "start_time": "2025-08-29T01:51:58.671693Z"
    }
   },
   "cell_type": "code",
   "source": [
    "# Now let's create your \"relative speed\" features!\n",
    "# Feature 1: Driver's historical performance at each track\n",
    "\n",
    "def create_driver_track_history(df):\n",
    "    \"\"\"Create features based on driver's historical performance at each track\"\"\"\n",
    "\n",
    "    # Sort by year to ensure we only use past data\n",
    "    df_sorted = df.sort_values(['year', 'raceId']).copy()\n",
    "\n",
    "    # Initialize feature columns\n",
    "    df_sorted['driver_track_avg_time'] = None\n",
    "    df_sorted['driver_track_best_time'] = None\n",
    "    df_sorted['driver_track_appearances'] = 0\n",
    "\n",
    "    # For each row, calculate historical stats using only PREVIOUS races\n",
    "    for idx, row in df_sorted.iterrows():\n",
    "        # Get this driver's previous races at this track\n",
    "        mask = (\n",
    "            (df_sorted['driverId'] == row['driverId']) &\n",
    "            (df_sorted['circuitId'] == row['circuitId']) &\n",
    "            (df_sorted['year'] < row['year'])  # Only use past data!\n",
    "        )\n",
    "\n",
    "        historical_data = df_sorted[mask]\n",
    "\n",
    "        if len(historical_data) > 0:\n",
    "            df_sorted.at[idx, 'driver_track_avg_time'] = historical_data['best_time'].mean()\n",
    "            df_sorted.at[idx, 'driver_track_best_time'] = historical_data['best_time'].min()\n",
    "            df_sorted.at[idx, 'driver_track_appearances'] = len(historical_data)\n",
    "\n",
    "    return df_sorted\n",
    "\n",
    "print(\"Creating driver track history features...\")\n",
    "print(\"This might take a moment with 10k+ records...\")\n",
    "\n",
    "# Start with a smaller sample to test (recent years only)\n",
    "recent_data = feature_data[feature_data['year'] >= 2015].copy()\n",
    "print(f\"Testing with {len(recent_data)} recent records (2015+)\")\n",
    "\n",
    "recent_with_features = create_driver_track_history(recent_data)\n",
    "\n",
    "print(\"\\nSample of new features:\")\n",
    "feature_cols = ['year', 'driverId', 'circuitId', 'best_time', 'driver_track_avg_time', 'driver_track_appearances']\n",
    "print(recent_with_features[feature_cols].head(10))"
   ],
   "id": "7402c215c7c3e926",
   "outputs": [
    {
     "name": "stdout",
     "output_type": "stream",
     "text": [
      "Creating driver track history features...\n",
      "This might take a moment with 10k+ records...\n",
      "Testing with 4439 recent records (2015+)\n",
      "\n",
      "Sample of new features:\n",
      "      year  driverId  circuitId  best_time driver_track_avg_time  \\\n",
      "6286  2015         1          1     86.327                  None   \n",
      "6287  2015         3          1     86.921                  None   \n",
      "6288  2015        13          1     87.718                  None   \n",
      "6289  2015        20          1     87.742                  None   \n",
      "6290  2015         8          1     87.790                  None   \n",
      "6291  2015       822          1     87.796                  None   \n",
      "6292  2015       817          1     88.329                  None   \n",
      "6293  2015       832          1     88.510                  None   \n",
      "6294  2015       154          1     88.560                  None   \n",
      "6295  2015       813          1     88.726                  None   \n",
      "\n",
      "      driver_track_appearances  \n",
      "6286                         0  \n",
      "6287                         0  \n",
      "6288                         0  \n",
      "6289                         0  \n",
      "6290                         0  \n",
      "6291                         0  \n",
      "6292                         0  \n",
      "6293                         0  \n",
      "6294                         0  \n",
      "6295                         0  \n"
     ]
    }
   ],
   "execution_count": 9
  },
  {
   "metadata": {
    "ExecuteTime": {
     "end_time": "2025-08-29T01:53:33.187766Z",
     "start_time": "2025-08-29T01:53:33.172411Z"
    }
   },
   "cell_type": "code",
   "source": [
    "# Let's understand WHY all the historical features are None\n",
    "# This is a great learning opportunity!\n",
    "\n",
    "print(\"=== DEBUGGING THE HISTORICAL FEATURES ===\")\n",
    "\n",
    "# Let's look at one specific driver and track combination\n",
    "# Driver ID 1 at Circuit ID 1 (let's see who this is)\n",
    "print(\"\\nWho is driver ID 1?\")\n",
    "driver_info = recent_data[recent_data['driverId'] == 1][['driverId', 'forename', 'surname']].iloc[0]\n",
    "print(f\"Driver 1: {driver_info['forename']} {driver_info['surname']}\")\n",
    "\n",
    "print(\"\\nWhat is circuit ID 1?\")\n",
    "circuit_info = recent_data[recent_data['circuitId'] == 1][['circuitId', 'name_y']].iloc[0]\n",
    "print(f\"Circuit 1: {circuit_info['name_y']}\")\n",
    "\n",
    "# Now let's see this driver's history at this track\n",
    "print(f\"\\n=== {driver_info['forename']} {driver_info['surname']} at {circuit_info['name_y']} ===\")\n",
    "driver_at_track = recent_data[\n",
    "    (recent_data['driverId'] == 1) &\n",
    "    (recent_data['circuitId'] == 1)\n",
    "].sort_values('year')\n",
    "\n",
    "print(\"All appearances:\")\n",
    "print(driver_at_track[['year', 'best_time', 'position']].to_string())"
   ],
   "id": "5dae4172f331bad3",
   "outputs": [
    {
     "name": "stdout",
     "output_type": "stream",
     "text": [
      "=== DEBUGGING THE HISTORICAL FEATURES ===\n",
      "\n",
      "Who is driver ID 1?\n",
      "Driver 1: Lewis Hamilton\n",
      "\n",
      "What is circuit ID 1?\n",
      "Circuit 1: Mercedes\n",
      "\n",
      "=== Lewis Hamilton at Mercedes ===\n",
      "All appearances:\n",
      "       year  best_time  position\n",
      "6286   2015     86.327         1\n",
      "6660   2016     83.837         1\n",
      "7117   2017     82.188         1\n",
      "7516   2018     81.164         1\n",
      "7936   2019     80.486         1\n",
      "9179   2022     78.825         5\n",
      "9617   2023     77.104         3\n",
      "10065  2024     76.960        11\n",
      "10501  2025     75.919         8\n"
     ]
    }
   ],
   "execution_count": 10
  },
  {
   "metadata": {},
   "cell_type": "code",
   "outputs": [],
   "execution_count": null,
   "source": [
    "# Set up your training and prediction strategy\n",
    "print(\"=== SETTING UP TRAINING/PREDICTION SPLIT ===\")\n",
    "\n",
    "# Training data: 1995-2024\n",
    "training_data = feature_data[feature_data['year'] <= 2024].copy()\n",
    "\n",
    "# Prediction target: 2025 races\n",
    "prediction_data = feature_data[feature_data['year'] == 2025].copy()\n",
    "\n",
    "print(f\"Training data: {len(training_data)} records ({training_data['year'].min()}-{training_data['year'].max()})\")\n",
    "print(f\"Prediction data: {len(prediction_data)} records (2025 races)\")\n",
    "\n",
    "print(f\"\\nTraining data covers {training_data['driverId'].nunique()} unique drivers\")\n",
    "print(f\"2025 data has {prediction_data['driverId'].nunique()} unique drivers\")\n",
    "\n",
    "# Key question: Which 2025 drivers are \"new\" (no historical data)?\n",
    "training_drivers = set(training_data['driverId'].unique())\n",
    "prediction_drivers = set(prediction_data['driverId'].unique())\n",
    "\n",
    "new_drivers_2025 = prediction_drivers - training_drivers\n",
    "experienced_drivers_2025 = prediction_drivers & training_drivers\n",
    "\n",
    "print(f\"\\n=== DRIVER ANALYSIS ===\")\n",
    "print(f\"Experienced drivers in 2025: {len(experienced_drivers_2025)}\")\n",
    "print(f\"New drivers in 2025: {len(new_drivers_2025)}\")\n",
    "\n",
    "if new_drivers_2025:\n",
    "    print(\"\\nNew drivers (no historical data):\")\n",
    "    new_driver_names = prediction_data[prediction_data['driverId'].isin(new_drivers_2025)][['driverId', 'forename', 'surname']].drop_duplicates()\n",
    "    for _, driver in new_driver_names.iterrows():\n",
    "        print(f\"  - {driver['forename']} {driver['surname']} (ID: {driver['driverId']})\")"
   ],
   "id": "2f0d0124aa0e1dd4"
  }
 ],
 "metadata": {
  "kernelspec": {
   "display_name": "Python 3",
   "language": "python",
   "name": "python3"
  },
  "language_info": {
   "codemirror_mode": {
    "name": "ipython",
    "version": 2
   },
   "file_extension": ".py",
   "mimetype": "text/x-python",
   "name": "python",
   "nbconvert_exporter": "python",
   "pygments_lexer": "ipython2",
   "version": "2.7.6"
  }
 },
 "nbformat": 4,
 "nbformat_minor": 5
}
