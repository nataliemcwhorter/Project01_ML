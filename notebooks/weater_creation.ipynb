{
 "cells": [
  {
   "metadata": {
    "ExecuteTime": {
     "end_time": "2025-08-31T02:16:38.779438Z",
     "start_time": "2025-08-31T02:16:38.746280Z"
    }
   },
   "cell_type": "code",
   "source": [
    "import ssl\n",
    "import urllib3\n",
    "ssl._create_default_https_context = ssl._create_unverified_context\n",
    "urllib3.disable_warnings(urllib3.exceptions.InsecureRequestWarning)\n",
    "import pandas as pd\n",
    "import numpy as np\n",
    "import matplotlib.pyplot as plt\n",
    "from meteostat import Point, Hourly, Daily\n",
    "from datetime import datetime\n",
    "start = datetime(2024, 11, 3, 17)\n",
    "end = datetime(2024, 11, 3, 20)\n",
    "location = Point(-23.7036,-46.6997)\n",
    "data = Hourly(location, start, end)\n",
    "data = data.fetch()\n",
    "print(data)\n",
    "file = open(\"../data/weather.csv\", \"w\")\n",
    "file.write(data.to_csv(index=False))\n",
    "file.close()"
   ],
   "id": "9264389d9dc5d312",
   "outputs": [
    {
     "name": "stdout",
     "output_type": "stream",
     "text": [
      "                     temp  dwpt  rhum  prcp  snow   wdir  wspd  wpgt    pres  \\\n",
      "time                                                                           \n",
      "2024-11-03 17:00:00  21.0  18.9  88.0   0.6  <NA>  120.0  13.0  <NA>  1017.0   \n",
      "2024-11-03 18:00:00  21.0  18.9  88.0   0.7  <NA>  150.0  13.0  <NA>  1016.0   \n",
      "2024-11-03 19:00:00  21.0  18.0  83.0   0.7  <NA>  130.0  18.4  <NA>  1016.0   \n",
      "2024-11-03 20:00:00  21.0  17.0  78.0   0.5  <NA>  110.0  14.8  <NA>  1015.0   \n",
      "\n",
      "                     tsun  coco  \n",
      "time                             \n",
      "2024-11-03 17:00:00  <NA>   7.0  \n",
      "2024-11-03 18:00:00  <NA>   7.0  \n",
      "2024-11-03 19:00:00  <NA>   7.0  \n",
      "2024-11-03 20:00:00  <NA>   7.0  \n"
     ]
    }
   ],
   "execution_count": 21
  }
 ],
 "metadata": {
  "kernelspec": {
   "display_name": "Python 3",
   "language": "python",
   "name": "python3"
  },
  "language_info": {
   "codemirror_mode": {
    "name": "ipython",
    "version": 2
   },
   "file_extension": ".py",
   "mimetype": "text/x-python",
   "name": "python",
   "nbconvert_exporter": "python",
   "pygments_lexer": "ipython2",
   "version": "2.7.6"
  }
 },
 "nbformat": 4,
 "nbformat_minor": 5
}
